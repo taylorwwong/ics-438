{
 "cells": [
  {
   "cell_type": "markdown",
   "id": "fc73558d-a100-41d1-89f1-8fb432efff61",
   "metadata": {},
   "source": [
    "## ICS 438 Final Project:\n",
    "**Jerome Gallego, Taylor Wong, Ujjwal Gautam**\n",
    "*Due December 13, 2022*\n",
    "---\n",
    "> For this project we have decided to use a dataset made from yelp reviews\n",
    "> In this dataset it provides the business_id, date of the review, review_id, stars, type, user_id, cool, useful, and funny.\n",
    "> The focus of our project is to determine if the stars from a scale of 1 to 5, can reflect how genuine (positive, neutral, >and negative) a review is.\n",
    "> Using the operation known as Sentiment Analysis, we can provide a detailed investigation.\n",
    "\n",
    "In the **first part** of the project, our objective is to use Sentiment Analysis of the review and visualize the result to measure the analysis's accuracy by comparing the sentiment analysis score to the stars given by the user. We observed by analyzing the plot of our comparison that our Sentiment analysis accuracy was low as the model classified many reviews with 1-2 stars as a positive sentiment and many reviews with 4-5 stars as negative sentiment. \n",
    "\n",
    "In the **second part** part of the project, we use sentiment analysis of the user review to predict the ratings or stars they would give based on the review. We're using a train_test_split function provided by the scikit library to split the dataset into training and testing sets. We train our machine learning model with the training datasets and predict the result of the test dataset using the model.\n",
    "\n",
    "\n",
    "**In the yelp dataset, we will only be analyzing the star ratings and the reviews itself. Everything else can be considered irrelevant. To do this we have cleaned the data with known functions and toolds from our available libraries**\n",
    "\n",
    "### For this notebook please install these packages to ensure that the file is running correctly\n",
    "`%pip install -U gensim`  \n",
    "`%pip install nltk`\n",
    "\n",
    "> The dataset we used in this project can be found [here](https://www.dropbox.com/s/wc6rzl1a2os721d/yelp.csv?dl=0)"
   ]
  },
  {
   "cell_type": "code",
   "execution_count": 2,
   "id": "151c0f68-a2c9-48f9-b9fc-d1078eb8dd94",
   "metadata": {},
   "outputs": [
    {
     "name": "stderr",
     "output_type": "stream",
     "text": [
      "[nltk_data] Downloading package stopwords to /home/jovyan/nltk_data...\n",
      "[nltk_data]   Package stopwords is already up-to-date!\n"
     ]
    }
   ],
   "source": [
    "import pandas as pd\n",
    "import matplotlib.pyplot as plt\n",
    "import numpy as np\n",
    "import nltk\n",
    "from nltk.corpus import stopwords\n",
    "nltk.download('stopwords')\n",
    "import string\n"
   ]
  },
  {
   "cell_type": "markdown",
   "id": "c7c05f03-9370-41d3-afa4-1d58435fc5e0",
   "metadata": {},
   "source": [
    "### Part 1: Using nltk's Sentiment Intensity Analyzer ###\n",
    "Before we can do any kind of analysis we will need to load the dataset.\n",
    "As instructed, we understand that loading a file into ram can seem inefficient, to overcome this obstacle we have decided to process the data in chunksizes of 50 to relieve stress while processing. In the cell below, we first ensured that our data is clean of stopwords and special characters. In the analyze function, it reads the file as a variable then concatenates the data into a dataframe which will be used in nltk's Sentiment Analyzer."
   ]
  },
  {
   "cell_type": "code",
   "execution_count": 3,
   "id": "8524ae0f-c859-45b3-9b58-feda2977abad",
   "metadata": {},
   "outputs": [
    {
     "name": "stdout",
     "output_type": "stream",
     "text": [
      "1: Reading in the csv file with a chunksize of 50\n",
      "2: Now we wil concatenate the data to be stored on a dataframe\n",
      "3: Deleting any irrelevant columns for better processing\n",
      "4: Now using the function clean_data to clean our reviews to be proccessed in our sentiment analyzer\n",
      "5: Now printing our new clean data\n"
     ]
    },
    {
     "data": {
      "text/html": [
       "<div>\n",
       "<style scoped>\n",
       "    .dataframe tbody tr th:only-of-type {\n",
       "        vertical-align: middle;\n",
       "    }\n",
       "\n",
       "    .dataframe tbody tr th {\n",
       "        vertical-align: top;\n",
       "    }\n",
       "\n",
       "    .dataframe thead th {\n",
       "        text-align: right;\n",
       "    }\n",
       "</style>\n",
       "<table border=\"1\" class=\"dataframe\">\n",
       "  <thead>\n",
       "    <tr style=\"text-align: right;\">\n",
       "      <th></th>\n",
       "      <th>stars</th>\n",
       "      <th>text</th>\n",
       "    </tr>\n",
       "  </thead>\n",
       "  <tbody>\n",
       "    <tr>\n",
       "      <th>0</th>\n",
       "      <td>5</td>\n",
       "      <td>wife took birthday breakfast excellent  weathe...</td>\n",
       "    </tr>\n",
       "    <tr>\n",
       "      <th>1</th>\n",
       "      <td>5</td>\n",
       "      <td>idea people give bad reviews place goes show p...</td>\n",
       "    </tr>\n",
       "    <tr>\n",
       "      <th>2</th>\n",
       "      <td>4</td>\n",
       "      <td>love gyro plate rice good also dig candy selec...</td>\n",
       "    </tr>\n",
       "    <tr>\n",
       "      <th>3</th>\n",
       "      <td>5</td>\n",
       "      <td>rosie dakota love chaparral dog park convenien...</td>\n",
       "    </tr>\n",
       "    <tr>\n",
       "      <th>4</th>\n",
       "      <td>5</td>\n",
       "      <td>general manager scott petello good egg go deta...</td>\n",
       "    </tr>\n",
       "    <tr>\n",
       "      <th>...</th>\n",
       "      <td>...</td>\n",
       "      <td>...</td>\n",
       "    </tr>\n",
       "    <tr>\n",
       "      <th>9995</th>\n",
       "      <td>3</td>\n",
       "      <td>first visithad lunch today  used groupon  orde...</td>\n",
       "    </tr>\n",
       "    <tr>\n",
       "      <th>9996</th>\n",
       "      <td>4</td>\n",
       "      <td>called house deliciousnessi could go item item...</td>\n",
       "    </tr>\n",
       "    <tr>\n",
       "      <th>9997</th>\n",
       "      <td>4</td>\n",
       "      <td>recently visited olive ivy business last week ...</td>\n",
       "    </tr>\n",
       "    <tr>\n",
       "      <th>9998</th>\n",
       "      <td>2</td>\n",
       "      <td>nephew moved scottsdale recently bunch friends...</td>\n",
       "    </tr>\n",
       "    <tr>\n",
       "      <th>9999</th>\n",
       "      <td>5</td>\n",
       "      <td>45 locations 45 star average think arizona rea...</td>\n",
       "    </tr>\n",
       "  </tbody>\n",
       "</table>\n",
       "<p>10000 rows × 2 columns</p>\n",
       "</div>"
      ],
      "text/plain": [
       "      stars                                               text\n",
       "0         5  wife took birthday breakfast excellent  weathe...\n",
       "1         5  idea people give bad reviews place goes show p...\n",
       "2         4  love gyro plate rice good also dig candy selec...\n",
       "3         5  rosie dakota love chaparral dog park convenien...\n",
       "4         5  general manager scott petello good egg go deta...\n",
       "...     ...                                                ...\n",
       "9995      3  first visithad lunch today  used groupon  orde...\n",
       "9996      4  called house deliciousnessi could go item item...\n",
       "9997      4  recently visited olive ivy business last week ...\n",
       "9998      2  nephew moved scottsdale recently bunch friends...\n",
       "9999      5  45 locations 45 star average think arizona rea...\n",
       "\n",
       "[10000 rows x 2 columns]"
      ]
     },
     "execution_count": 3,
     "metadata": {},
     "output_type": "execute_result"
    }
   ],
   "source": [
    "# We cant\n",
    "# Function to clean the text string in our dataframe\n",
    "stop_words = set(stopwords.words('english'))\n",
    "def clean_data(data):\n",
    "    x = data.lower()\n",
    "    x = x.replace('\\n','')\n",
    "    table = str.maketrans(dict.fromkeys(string.punctuation)) \n",
    "    x = x.translate(table)\n",
    "    x = ' '.join([word for word in x.split(' ') if word not in stop_words])\n",
    "    return x\n",
    "\n",
    "#Function that takes a csv file for processing and cleaning\n",
    "def analyze(inputfile):\n",
    "    yelp_df = pd.DataFrame()\n",
    "    with open(inputfile, \"r+\") as csv_file:\n",
    "        print(\"1: Reading in the csv file with a chunksize of 50\")\n",
    "        tp = pd.read_csv(csv_file, iterator=True, chunksize=50)\n",
    "        print(\"2: Now we wil concatenate the data to be stored on a dataframe\")\n",
    "        yelp_df = pd.concat(tp, ignore_index=True)\n",
    "        #assigns the columns that have been collected when reading in the file\n",
    "        columns = yelp_df.columns.values.tolist()\n",
    "        print(\"3: Deleting any irrelevant columns for better processing\")\n",
    "        yelp_df.drop(labels=[\"business_id\", \"date\", \"type\", \"review_id\", \"user_id\", \"cool\", \"useful\", \"funny\"], axis=1, inplace=True)\n",
    "        print(\"4: Now using the function clean_data to clean our reviews to be proccessed in our sentiment analyzer\")\n",
    "        yelp_df[\"text\"] = yelp_df[\"text\"].apply(clean_data)\n",
    "        print(\"5: Now printing our new clean data\")\n",
    "    return yelp_df\n",
    "\n",
    "yelp_df = analyze('./data/yelp.csv')\n",
    "yelp_df\n"
   ]
  },
  {
   "cell_type": "markdown",
   "id": "47714df8-c1bd-4e93-993b-c048864f9f55",
   "metadata": {},
   "source": [
    "### Vader lexicon\n",
    "Vader lexicon is a rule-based sentiment analysis tool specifically made for social media sentiment. For a more in-depth documentation please refer to their GitHub: https://github.com/cjhutto/vaderSentiment\n",
    "\n",
    "### Why we chose vader lexicon\n",
    "We understand that the data we want to analyze contain only reviews. However, we thought it was a great idea to use this because the model has been trained to how user on social media express their feelings. We decided to go with vader lexicon since the way vader lexicon was designed is meant for review analysis. On their GitHub page, examples of the training data used include 'The service here is extremely good', and 'The service here is good'. Both of these examples can be mistaken as the same thing. But, in the model it can tell how positive or negative a sentence is. "
   ]
  },
  {
   "cell_type": "code",
   "execution_count": 4,
   "id": "47019d63-c25d-4563-9a7e-0e253a3a9d7e",
   "metadata": {},
   "outputs": [
    {
     "name": "stderr",
     "output_type": "stream",
     "text": [
      "[nltk_data] Downloading package vader_lexicon to\n",
      "[nltk_data]     /home/jovyan/nltk_data...\n",
      "[nltk_data]   Package vader_lexicon is already up-to-date!\n"
     ]
    }
   ],
   "source": [
    "nltk.download('vader_lexicon')\n",
    "from nltk.sentiment.vader import SentimentIntensityAnalyzer"
   ]
  },
  {
   "cell_type": "code",
   "execution_count": 5,
   "id": "e9d2282c-cdd7-4f2e-9b89-c93b0fd00e0c",
   "metadata": {},
   "outputs": [
    {
     "data": {
      "text/html": [
       "<div>\n",
       "<style scoped>\n",
       "    .dataframe tbody tr th:only-of-type {\n",
       "        vertical-align: middle;\n",
       "    }\n",
       "\n",
       "    .dataframe tbody tr th {\n",
       "        vertical-align: top;\n",
       "    }\n",
       "\n",
       "    .dataframe thead th {\n",
       "        text-align: right;\n",
       "    }\n",
       "</style>\n",
       "<table border=\"1\" class=\"dataframe\">\n",
       "  <thead>\n",
       "    <tr style=\"text-align: right;\">\n",
       "      <th></th>\n",
       "      <th>stars</th>\n",
       "      <th>text</th>\n",
       "      <th>Sentiment</th>\n",
       "      <th>neg_score</th>\n",
       "      <th>neu_score</th>\n",
       "      <th>pos_score</th>\n",
       "      <th>compound_score</th>\n",
       "    </tr>\n",
       "  </thead>\n",
       "  <tbody>\n",
       "    <tr>\n",
       "      <th>0</th>\n",
       "      <td>5</td>\n",
       "      <td>wife took birthday breakfast excellent  weathe...</td>\n",
       "      <td>positive</td>\n",
       "      <td>0.025</td>\n",
       "      <td>0.545</td>\n",
       "      <td>0.431</td>\n",
       "      <td>0.9935</td>\n",
       "    </tr>\n",
       "    <tr>\n",
       "      <th>1</th>\n",
       "      <td>5</td>\n",
       "      <td>idea people give bad reviews place goes show p...</td>\n",
       "      <td>positive</td>\n",
       "      <td>0.025</td>\n",
       "      <td>0.545</td>\n",
       "      <td>0.431</td>\n",
       "      <td>0.9935</td>\n",
       "    </tr>\n",
       "    <tr>\n",
       "      <th>2</th>\n",
       "      <td>4</td>\n",
       "      <td>love gyro plate rice good also dig candy selec...</td>\n",
       "      <td>positive</td>\n",
       "      <td>0.025</td>\n",
       "      <td>0.545</td>\n",
       "      <td>0.431</td>\n",
       "      <td>0.9935</td>\n",
       "    </tr>\n",
       "    <tr>\n",
       "      <th>3</th>\n",
       "      <td>5</td>\n",
       "      <td>rosie dakota love chaparral dog park convenien...</td>\n",
       "      <td>positive</td>\n",
       "      <td>0.025</td>\n",
       "      <td>0.545</td>\n",
       "      <td>0.431</td>\n",
       "      <td>0.9935</td>\n",
       "    </tr>\n",
       "    <tr>\n",
       "      <th>4</th>\n",
       "      <td>5</td>\n",
       "      <td>general manager scott petello good egg go deta...</td>\n",
       "      <td>positive</td>\n",
       "      <td>0.025</td>\n",
       "      <td>0.545</td>\n",
       "      <td>0.431</td>\n",
       "      <td>0.9935</td>\n",
       "    </tr>\n",
       "    <tr>\n",
       "      <th>...</th>\n",
       "      <td>...</td>\n",
       "      <td>...</td>\n",
       "      <td>...</td>\n",
       "      <td>...</td>\n",
       "      <td>...</td>\n",
       "      <td>...</td>\n",
       "      <td>...</td>\n",
       "    </tr>\n",
       "    <tr>\n",
       "      <th>9995</th>\n",
       "      <td>3</td>\n",
       "      <td>first visithad lunch today  used groupon  orde...</td>\n",
       "      <td>positive</td>\n",
       "      <td>0.014</td>\n",
       "      <td>0.753</td>\n",
       "      <td>0.232</td>\n",
       "      <td>0.9860</td>\n",
       "    </tr>\n",
       "    <tr>\n",
       "      <th>9996</th>\n",
       "      <td>4</td>\n",
       "      <td>called house deliciousnessi could go item item...</td>\n",
       "      <td>positive</td>\n",
       "      <td>0.014</td>\n",
       "      <td>0.753</td>\n",
       "      <td>0.232</td>\n",
       "      <td>0.9860</td>\n",
       "    </tr>\n",
       "    <tr>\n",
       "      <th>9997</th>\n",
       "      <td>4</td>\n",
       "      <td>recently visited olive ivy business last week ...</td>\n",
       "      <td>positive</td>\n",
       "      <td>0.014</td>\n",
       "      <td>0.753</td>\n",
       "      <td>0.232</td>\n",
       "      <td>0.9860</td>\n",
       "    </tr>\n",
       "    <tr>\n",
       "      <th>9998</th>\n",
       "      <td>2</td>\n",
       "      <td>nephew moved scottsdale recently bunch friends...</td>\n",
       "      <td>positive</td>\n",
       "      <td>0.014</td>\n",
       "      <td>0.753</td>\n",
       "      <td>0.232</td>\n",
       "      <td>0.9860</td>\n",
       "    </tr>\n",
       "    <tr>\n",
       "      <th>9999</th>\n",
       "      <td>5</td>\n",
       "      <td>45 locations 45 star average think arizona rea...</td>\n",
       "      <td>positive</td>\n",
       "      <td>0.014</td>\n",
       "      <td>0.753</td>\n",
       "      <td>0.232</td>\n",
       "      <td>0.9860</td>\n",
       "    </tr>\n",
       "  </tbody>\n",
       "</table>\n",
       "<p>10000 rows × 7 columns</p>\n",
       "</div>"
      ],
      "text/plain": [
       "      stars                                               text Sentiment  \\\n",
       "0         5  wife took birthday breakfast excellent  weathe...  positive   \n",
       "1         5  idea people give bad reviews place goes show p...  positive   \n",
       "2         4  love gyro plate rice good also dig candy selec...  positive   \n",
       "3         5  rosie dakota love chaparral dog park convenien...  positive   \n",
       "4         5  general manager scott petello good egg go deta...  positive   \n",
       "...     ...                                                ...       ...   \n",
       "9995      3  first visithad lunch today  used groupon  orde...  positive   \n",
       "9996      4  called house deliciousnessi could go item item...  positive   \n",
       "9997      4  recently visited olive ivy business last week ...  positive   \n",
       "9998      2  nephew moved scottsdale recently bunch friends...  positive   \n",
       "9999      5  45 locations 45 star average think arizona rea...  positive   \n",
       "\n",
       "      neg_score  neu_score  pos_score  compound_score  \n",
       "0         0.025      0.545      0.431          0.9935  \n",
       "1         0.025      0.545      0.431          0.9935  \n",
       "2         0.025      0.545      0.431          0.9935  \n",
       "3         0.025      0.545      0.431          0.9935  \n",
       "4         0.025      0.545      0.431          0.9935  \n",
       "...         ...        ...        ...             ...  \n",
       "9995      0.014      0.753      0.232          0.9860  \n",
       "9996      0.014      0.753      0.232          0.9860  \n",
       "9997      0.014      0.753      0.232          0.9860  \n",
       "9998      0.014      0.753      0.232          0.9860  \n",
       "9999      0.014      0.753      0.232          0.9860  \n",
       "\n",
       "[10000 rows x 7 columns]"
      ]
     },
     "execution_count": 5,
     "metadata": {},
     "output_type": "execute_result"
    }
   ],
   "source": [
    "for index, row in yelp_df['text'].items():\n",
    "    if index%50 == 0:\n",
    "        result = SentimentIntensityAnalyzer().polarity_scores(row)\n",
    "    if result['neg'] > result['pos']:\n",
    "        yelp_df.loc[index, \"Sentiment\"] = \"negative\"\n",
    "    elif result['pos'] > result['neg']:\n",
    "        yelp_df.loc[index, \"Sentiment\"] = \"positive\"\n",
    "    else:\n",
    "        yelp_df.loc[index, \"Sentiment\"] = \"neutral\"    \n",
    "    yelp_df.loc[index, 'neg_score'] = result['neg']\n",
    "    yelp_df.loc[index, 'neu_score'] = result['neu']\n",
    "    yelp_df.loc[index, 'pos_score'] = result['pos']\n",
    "    yelp_df.loc[index, 'compound_score'] = result['compound']\n",
    "yelp_df"
   ]
  },
  {
   "cell_type": "code",
   "execution_count": 6,
   "id": "6f67c1a7-4ebf-4bd8-90ca-57334c8d2ec5",
   "metadata": {},
   "outputs": [],
   "source": [
    "# test_set =\"The place is horrible.\"\n",
    "# test_set2 =\"I loved the food at this restaurant.\"\n",
    "\n",
    "# test = SentimentIntensityAnalyzer().polarity_scores(test_set2)\n",
    "# test\n",
    "\n"
   ]
  },
  {
   "cell_type": "code",
   "execution_count": 7,
   "id": "8b65d356-9f90-4672-9e21-c0c684cdb638",
   "metadata": {},
   "outputs": [
    {
     "data": {
      "text/html": [
       "<div>\n",
       "<style scoped>\n",
       "    .dataframe tbody tr th:only-of-type {\n",
       "        vertical-align: middle;\n",
       "    }\n",
       "\n",
       "    .dataframe tbody tr th {\n",
       "        vertical-align: top;\n",
       "    }\n",
       "\n",
       "    .dataframe thead th {\n",
       "        text-align: right;\n",
       "    }\n",
       "</style>\n",
       "<table border=\"1\" class=\"dataframe\">\n",
       "  <thead>\n",
       "    <tr style=\"text-align: right;\">\n",
       "      <th></th>\n",
       "      <th>stars</th>\n",
       "      <th>text</th>\n",
       "      <th>Sentiment</th>\n",
       "      <th>neg_score</th>\n",
       "      <th>neu_score</th>\n",
       "      <th>pos_score</th>\n",
       "      <th>compound_score</th>\n",
       "    </tr>\n",
       "  </thead>\n",
       "  <tbody>\n",
       "    <tr>\n",
       "      <th>15</th>\n",
       "      <td>2</td>\n",
       "      <td>worth 21 salad small pizza absolutely bad serv...</td>\n",
       "      <td>positive</td>\n",
       "      <td>0.025</td>\n",
       "      <td>0.545</td>\n",
       "      <td>0.431</td>\n",
       "      <td>0.9935</td>\n",
       "    </tr>\n",
       "    <tr>\n",
       "      <th>23</th>\n",
       "      <td>1</td>\n",
       "      <td>u go n check car u wanna buy 1 thats wrong mov...</td>\n",
       "      <td>positive</td>\n",
       "      <td>0.025</td>\n",
       "      <td>0.545</td>\n",
       "      <td>0.431</td>\n",
       "      <td>0.9935</td>\n",
       "    </tr>\n",
       "    <tr>\n",
       "      <th>31</th>\n",
       "      <td>1</td>\n",
       "      <td>disgusting  groupon daughter tried  outdated g...</td>\n",
       "      <td>positive</td>\n",
       "      <td>0.025</td>\n",
       "      <td>0.545</td>\n",
       "      <td>0.431</td>\n",
       "      <td>0.9935</td>\n",
       "    </tr>\n",
       "    <tr>\n",
       "      <th>35</th>\n",
       "      <td>1</td>\n",
       "      <td>ive eaten many times none bad last nightservic...</td>\n",
       "      <td>positive</td>\n",
       "      <td>0.025</td>\n",
       "      <td>0.545</td>\n",
       "      <td>0.431</td>\n",
       "      <td>0.9935</td>\n",
       "    </tr>\n",
       "    <tr>\n",
       "      <th>56</th>\n",
       "      <td>2</td>\n",
       "      <td>add andrews reviewi cant believe things happen...</td>\n",
       "      <td>positive</td>\n",
       "      <td>0.069</td>\n",
       "      <td>0.663</td>\n",
       "      <td>0.267</td>\n",
       "      <td>0.9892</td>\n",
       "    </tr>\n",
       "    <tr>\n",
       "      <th>...</th>\n",
       "      <td>...</td>\n",
       "      <td>...</td>\n",
       "      <td>...</td>\n",
       "      <td>...</td>\n",
       "      <td>...</td>\n",
       "      <td>...</td>\n",
       "      <td>...</td>\n",
       "    </tr>\n",
       "    <tr>\n",
       "      <th>9954</th>\n",
       "      <td>2</td>\n",
       "      <td>stopped lunch bff todaynowhere park forced val...</td>\n",
       "      <td>positive</td>\n",
       "      <td>0.014</td>\n",
       "      <td>0.753</td>\n",
       "      <td>0.232</td>\n",
       "      <td>0.9860</td>\n",
       "    </tr>\n",
       "    <tr>\n",
       "      <th>9974</th>\n",
       "      <td>2</td>\n",
       "      <td>cowboy ciao best restaurant scottsdale cafe ca...</td>\n",
       "      <td>positive</td>\n",
       "      <td>0.014</td>\n",
       "      <td>0.753</td>\n",
       "      <td>0.232</td>\n",
       "      <td>0.9860</td>\n",
       "    </tr>\n",
       "    <tr>\n",
       "      <th>9984</th>\n",
       "      <td>1</td>\n",
       "      <td>went last night whore foods get basics make pi...</td>\n",
       "      <td>positive</td>\n",
       "      <td>0.014</td>\n",
       "      <td>0.753</td>\n",
       "      <td>0.232</td>\n",
       "      <td>0.9860</td>\n",
       "    </tr>\n",
       "    <tr>\n",
       "      <th>9987</th>\n",
       "      <td>1</td>\n",
       "      <td>food delicious  service  discriminatory  barte...</td>\n",
       "      <td>positive</td>\n",
       "      <td>0.014</td>\n",
       "      <td>0.753</td>\n",
       "      <td>0.232</td>\n",
       "      <td>0.9860</td>\n",
       "    </tr>\n",
       "    <tr>\n",
       "      <th>9998</th>\n",
       "      <td>2</td>\n",
       "      <td>nephew moved scottsdale recently bunch friends...</td>\n",
       "      <td>positive</td>\n",
       "      <td>0.014</td>\n",
       "      <td>0.753</td>\n",
       "      <td>0.232</td>\n",
       "      <td>0.9860</td>\n",
       "    </tr>\n",
       "  </tbody>\n",
       "</table>\n",
       "<p>1676 rows × 7 columns</p>\n",
       "</div>"
      ],
      "text/plain": [
       "      stars                                               text Sentiment  \\\n",
       "15        2  worth 21 salad small pizza absolutely bad serv...  positive   \n",
       "23        1  u go n check car u wanna buy 1 thats wrong mov...  positive   \n",
       "31        1  disgusting  groupon daughter tried  outdated g...  positive   \n",
       "35        1  ive eaten many times none bad last nightservic...  positive   \n",
       "56        2  add andrews reviewi cant believe things happen...  positive   \n",
       "...     ...                                                ...       ...   \n",
       "9954      2  stopped lunch bff todaynowhere park forced val...  positive   \n",
       "9974      2  cowboy ciao best restaurant scottsdale cafe ca...  positive   \n",
       "9984      1  went last night whore foods get basics make pi...  positive   \n",
       "9987      1  food delicious  service  discriminatory  barte...  positive   \n",
       "9998      2  nephew moved scottsdale recently bunch friends...  positive   \n",
       "\n",
       "      neg_score  neu_score  pos_score  compound_score  \n",
       "15        0.025      0.545      0.431          0.9935  \n",
       "23        0.025      0.545      0.431          0.9935  \n",
       "31        0.025      0.545      0.431          0.9935  \n",
       "35        0.025      0.545      0.431          0.9935  \n",
       "56        0.069      0.663      0.267          0.9892  \n",
       "...         ...        ...        ...             ...  \n",
       "9954      0.014      0.753      0.232          0.9860  \n",
       "9974      0.014      0.753      0.232          0.9860  \n",
       "9984      0.014      0.753      0.232          0.9860  \n",
       "9987      0.014      0.753      0.232          0.9860  \n",
       "9998      0.014      0.753      0.232          0.9860  \n",
       "\n",
       "[1676 rows x 7 columns]"
      ]
     },
     "execution_count": 7,
     "metadata": {},
     "output_type": "execute_result"
    }
   ],
   "source": [
    "low_rate = yelp_df[(yelp_df['stars'] == 1) | (yelp_df['stars'] == 2)]\n",
    "low_rate"
   ]
  },
  {
   "cell_type": "markdown",
   "id": "0930e7c2-fd0a-4b70-b88e-591c1fb9438b",
   "metadata": {},
   "source": [
    "**The bar chart below shows that the sentiment analysis predicted many reviews with 1-2 stars as 'Positive'; this suggests that the analysis isn't very reliable.**"
   ]
  },
  {
   "cell_type": "code",
   "execution_count": 8,
   "id": "a01fd28e-24c4-453f-8893-787dadb1cc29",
   "metadata": {},
   "outputs": [
    {
     "data": {
      "image/png": "[encoded data removed]",
      "text/plain": [
       "<Figure size 640x480 with 1 Axes>"
      ]
     },
     "metadata": {},
     "output_type": "display_data"
    }
   ],
   "source": [
    "# bar chart showing total spread of sentiment\n",
    "low_key = low_rate['Sentiment'].value_counts().keys().tolist()\n",
    "low_val = low_rate['Sentiment'].value_counts().tolist()\n",
    "\n",
    "fig = plt.bar(low_key, low_val, color='r')"
   ]
  },
  {
   "cell_type": "code",
   "execution_count": 9,
   "id": "9f0406e4-80be-4ffd-8abf-2233a098bdd9",
   "metadata": {},
   "outputs": [
    {
     "data": {
      "text/plain": [
       "([<matplotlib.patches.Wedge at 0x7fdc709820e0>,\n",
       "  <matplotlib.patches.Wedge at 0x7fdc70982770>,\n",
       "  <matplotlib.patches.Wedge at 0x7fdc70982e00>],\n",
       " [Text(-1.0532842709306995, 0.31716280458147184, 'positive'),\n",
       "  Text(1.0471191837105542, -0.3369590703710804, 'negative'),\n",
       "  Text(1.0998045938029875, -0.020732955646648506, 'neutral')],\n",
       " [Text(-0.574518693234927, 0.17299789340807553, '90.69%'),\n",
       "  Text(0.571155918387575, -0.18379585656604383, '8.71%'),\n",
       "  Text(0.5998934148016295, -0.011308884898171912, '0.60%')])"
      ]
     },
     "execution_count": 9,
     "metadata": {},
     "output_type": "execute_result"
    },
    {
     "data": {
      "image/png": "[encoded data removed]",
      "text/plain": [
       "<Figure size 640x480 with 1 Axes>"
      ]
     },
     "metadata": {},
     "output_type": "display_data"
    }
   ],
   "source": [
    "# normalize values to get %\n",
    "norm_Lval = low_rate['Sentiment'].value_counts(normalize=True).tolist()\n",
    "norm_Lvals = [i * 100 for i in norm_Lval]\n",
    "for ind, i in enumerate(norm_Lvals):\n",
    "    norm_Lvals[ind] = round(norm_Lvals[ind],2)\n",
    "plt.pie(norm_Lvals, labels=low_key, autopct='%1.2f%%')"
   ]
  },
  {
   "cell_type": "code",
   "execution_count": 10,
   "id": "0560299f-9403-4fcc-a284-fd23ac92452f",
   "metadata": {},
   "outputs": [
    {
     "data": {
      "text/html": [
       "<div>\n",
       "<style scoped>\n",
       "    .dataframe tbody tr th:only-of-type {\n",
       "        vertical-align: middle;\n",
       "    }\n",
       "\n",
       "    .dataframe tbody tr th {\n",
       "        vertical-align: top;\n",
       "    }\n",
       "\n",
       "    .dataframe thead th {\n",
       "        text-align: right;\n",
       "    }\n",
       "</style>\n",
       "<table border=\"1\" class=\"dataframe\">\n",
       "  <thead>\n",
       "    <tr style=\"text-align: right;\">\n",
       "      <th></th>\n",
       "      <th>stars</th>\n",
       "      <th>text</th>\n",
       "      <th>Sentiment</th>\n",
       "      <th>neg_score</th>\n",
       "      <th>neu_score</th>\n",
       "      <th>pos_score</th>\n",
       "      <th>compound_score</th>\n",
       "    </tr>\n",
       "  </thead>\n",
       "  <tbody>\n",
       "    <tr>\n",
       "      <th>0</th>\n",
       "      <td>5</td>\n",
       "      <td>wife took birthday breakfast excellent  weathe...</td>\n",
       "      <td>positive</td>\n",
       "      <td>0.025</td>\n",
       "      <td>0.545</td>\n",
       "      <td>0.431</td>\n",
       "      <td>0.9935</td>\n",
       "    </tr>\n",
       "    <tr>\n",
       "      <th>1</th>\n",
       "      <td>5</td>\n",
       "      <td>idea people give bad reviews place goes show p...</td>\n",
       "      <td>positive</td>\n",
       "      <td>0.025</td>\n",
       "      <td>0.545</td>\n",
       "      <td>0.431</td>\n",
       "      <td>0.9935</td>\n",
       "    </tr>\n",
       "    <tr>\n",
       "      <th>2</th>\n",
       "      <td>4</td>\n",
       "      <td>love gyro plate rice good also dig candy selec...</td>\n",
       "      <td>positive</td>\n",
       "      <td>0.025</td>\n",
       "      <td>0.545</td>\n",
       "      <td>0.431</td>\n",
       "      <td>0.9935</td>\n",
       "    </tr>\n",
       "    <tr>\n",
       "      <th>3</th>\n",
       "      <td>5</td>\n",
       "      <td>rosie dakota love chaparral dog park convenien...</td>\n",
       "      <td>positive</td>\n",
       "      <td>0.025</td>\n",
       "      <td>0.545</td>\n",
       "      <td>0.431</td>\n",
       "      <td>0.9935</td>\n",
       "    </tr>\n",
       "    <tr>\n",
       "      <th>4</th>\n",
       "      <td>5</td>\n",
       "      <td>general manager scott petello good egg go deta...</td>\n",
       "      <td>positive</td>\n",
       "      <td>0.025</td>\n",
       "      <td>0.545</td>\n",
       "      <td>0.431</td>\n",
       "      <td>0.9935</td>\n",
       "    </tr>\n",
       "    <tr>\n",
       "      <th>...</th>\n",
       "      <td>...</td>\n",
       "      <td>...</td>\n",
       "      <td>...</td>\n",
       "      <td>...</td>\n",
       "      <td>...</td>\n",
       "      <td>...</td>\n",
       "      <td>...</td>\n",
       "    </tr>\n",
       "    <tr>\n",
       "      <th>9993</th>\n",
       "      <td>4</td>\n",
       "      <td>judging reviews maybe went good days ive enjoy...</td>\n",
       "      <td>positive</td>\n",
       "      <td>0.014</td>\n",
       "      <td>0.753</td>\n",
       "      <td>0.232</td>\n",
       "      <td>0.9860</td>\n",
       "    </tr>\n",
       "    <tr>\n",
       "      <th>9994</th>\n",
       "      <td>5</td>\n",
       "      <td>lets seewhat like surprise stadium well 950 ta...</td>\n",
       "      <td>positive</td>\n",
       "      <td>0.014</td>\n",
       "      <td>0.753</td>\n",
       "      <td>0.232</td>\n",
       "      <td>0.9860</td>\n",
       "    </tr>\n",
       "    <tr>\n",
       "      <th>9996</th>\n",
       "      <td>4</td>\n",
       "      <td>called house deliciousnessi could go item item...</td>\n",
       "      <td>positive</td>\n",
       "      <td>0.014</td>\n",
       "      <td>0.753</td>\n",
       "      <td>0.232</td>\n",
       "      <td>0.9860</td>\n",
       "    </tr>\n",
       "    <tr>\n",
       "      <th>9997</th>\n",
       "      <td>4</td>\n",
       "      <td>recently visited olive ivy business last week ...</td>\n",
       "      <td>positive</td>\n",
       "      <td>0.014</td>\n",
       "      <td>0.753</td>\n",
       "      <td>0.232</td>\n",
       "      <td>0.9860</td>\n",
       "    </tr>\n",
       "    <tr>\n",
       "      <th>9999</th>\n",
       "      <td>5</td>\n",
       "      <td>45 locations 45 star average think arizona rea...</td>\n",
       "      <td>positive</td>\n",
       "      <td>0.014</td>\n",
       "      <td>0.753</td>\n",
       "      <td>0.232</td>\n",
       "      <td>0.9860</td>\n",
       "    </tr>\n",
       "  </tbody>\n",
       "</table>\n",
       "<p>6863 rows × 7 columns</p>\n",
       "</div>"
      ],
      "text/plain": [
       "      stars                                               text Sentiment  \\\n",
       "0         5  wife took birthday breakfast excellent  weathe...  positive   \n",
       "1         5  idea people give bad reviews place goes show p...  positive   \n",
       "2         4  love gyro plate rice good also dig candy selec...  positive   \n",
       "3         5  rosie dakota love chaparral dog park convenien...  positive   \n",
       "4         5  general manager scott petello good egg go deta...  positive   \n",
       "...     ...                                                ...       ...   \n",
       "9993      4  judging reviews maybe went good days ive enjoy...  positive   \n",
       "9994      5  lets seewhat like surprise stadium well 950 ta...  positive   \n",
       "9996      4  called house deliciousnessi could go item item...  positive   \n",
       "9997      4  recently visited olive ivy business last week ...  positive   \n",
       "9999      5  45 locations 45 star average think arizona rea...  positive   \n",
       "\n",
       "      neg_score  neu_score  pos_score  compound_score  \n",
       "0         0.025      0.545      0.431          0.9935  \n",
       "1         0.025      0.545      0.431          0.9935  \n",
       "2         0.025      0.545      0.431          0.9935  \n",
       "3         0.025      0.545      0.431          0.9935  \n",
       "4         0.025      0.545      0.431          0.9935  \n",
       "...         ...        ...        ...             ...  \n",
       "9993      0.014      0.753      0.232          0.9860  \n",
       "9994      0.014      0.753      0.232          0.9860  \n",
       "9996      0.014      0.753      0.232          0.9860  \n",
       "9997      0.014      0.753      0.232          0.9860  \n",
       "9999      0.014      0.753      0.232          0.9860  \n",
       "\n",
       "[6863 rows x 7 columns]"
      ]
     },
     "execution_count": 10,
     "metadata": {},
     "output_type": "execute_result"
    }
   ],
   "source": [
    "high_rate = yelp_df[(yelp_df['stars'] == 4) | (yelp_df['stars'] == 5)]\n",
    "high_rate"
   ]
  },
  {
   "cell_type": "markdown",
   "id": "16dc6bb7-1510-410d-ab60-a9d61934dc88",
   "metadata": {},
   "source": [
    "**The bar chart below shows that the sentiment analysis predicted many reviews with 4-5 stars as 'Positive'; this suggests that the analysis predicted accurately.**"
   ]
  },
  {
   "cell_type": "code",
   "execution_count": 11,
   "id": "1a606a4a-abef-4a5f-8268-ada8b3f47b1c",
   "metadata": {},
   "outputs": [
    {
     "data": {
      "image/png": "[encoded data removed]",
      "text/plain": [
       "<Figure size 640x480 with 1 Axes>"
      ]
     },
     "metadata": {},
     "output_type": "display_data"
    }
   ],
   "source": [
    "# bar chart showing total spread of sentiment\n",
    "high_key = high_rate['Sentiment'].value_counts().keys().tolist()\n",
    "high_val = high_rate['Sentiment'].value_counts().tolist()\n",
    "\n",
    "fig = plt.bar(high_key, high_val, color='b')"
   ]
  },
  {
   "cell_type": "code",
   "execution_count": 12,
   "id": "3358a24c-d8be-48d2-ad8e-6af1ad505b98",
   "metadata": {},
   "outputs": [
    {
     "data": {
      "text/plain": [
       "([<matplotlib.patches.Wedge at 0x7fdc703e4280>,\n",
       "  <matplotlib.patches.Wedge at 0x7fdc703e4910>,\n",
       "  <matplotlib.patches.Wedge at 0x7fdc703e4fa0>],\n",
       " [Text(-1.0618296565217265, 0.2872590825908778, 'positive'),\n",
       "  Text(1.057662710598868, -0.302240947935013, 'negative'),\n",
       "  Text(1.0998900847855981, -0.01554996431924971, 'neutral')],\n",
       " [Text(-0.5791798126482143, 0.15668677232229694, '91.59%'),\n",
       "  Text(0.5769069330539279, -0.16485869887364343, '7.96%'),\n",
       "  Text(0.5999400462466898, -0.00848179871959075, '0.45%')])"
      ]
     },
     "execution_count": 12,
     "metadata": {},
     "output_type": "execute_result"
    },
    {
     "data": {
      "image/png": "[encoded data removed]",
      "text/plain": [
       "<Figure size 640x480 with 1 Axes>"
      ]
     },
     "metadata": {},
     "output_type": "display_data"
    }
   ],
   "source": [
    "# normalize values to get %\n",
    "norm_bval = high_rate['Sentiment'].value_counts(normalize=True).tolist()\n",
    "norm_bvals = [i * 100 for i in norm_bval]\n",
    "for ind, i in enumerate(norm_bvals):\n",
    "    norm_bvals[ind] = round(norm_bvals[ind],2)\n",
    "plt.pie(norm_bvals, labels=high_key, autopct='%1.2f%%')"
   ]
  },
  {
   "cell_type": "code",
   "execution_count": 13,
   "id": "0a6d299e-cd0f-4ded-b370-31dc64d21d7b",
   "metadata": {},
   "outputs": [
    {
     "data": {
      "text/html": [
       "<div>\n",
       "<style scoped>\n",
       "    .dataframe tbody tr th:only-of-type {\n",
       "        vertical-align: middle;\n",
       "    }\n",
       "\n",
       "    .dataframe tbody tr th {\n",
       "        vertical-align: top;\n",
       "    }\n",
       "\n",
       "    .dataframe thead th {\n",
       "        text-align: right;\n",
       "    }\n",
       "</style>\n",
       "<table border=\"1\" class=\"dataframe\">\n",
       "  <thead>\n",
       "    <tr style=\"text-align: right;\">\n",
       "      <th></th>\n",
       "      <th>stars</th>\n",
       "      <th>text</th>\n",
       "      <th>Sentiment</th>\n",
       "      <th>neg_score</th>\n",
       "      <th>neu_score</th>\n",
       "      <th>pos_score</th>\n",
       "      <th>compound_score</th>\n",
       "    </tr>\n",
       "  </thead>\n",
       "  <tbody>\n",
       "    <tr>\n",
       "      <th>16</th>\n",
       "      <td>3</td>\n",
       "      <td>went saturday afternoon place incredibly empty...</td>\n",
       "      <td>positive</td>\n",
       "      <td>0.025</td>\n",
       "      <td>0.545</td>\n",
       "      <td>0.431</td>\n",
       "      <td>0.9935</td>\n",
       "    </tr>\n",
       "    <tr>\n",
       "      <th>18</th>\n",
       "      <td>3</td>\n",
       "      <td>met friend lunch yesterday loved water feature...</td>\n",
       "      <td>positive</td>\n",
       "      <td>0.025</td>\n",
       "      <td>0.545</td>\n",
       "      <td>0.431</td>\n",
       "      <td>0.9935</td>\n",
       "    </tr>\n",
       "    <tr>\n",
       "      <th>20</th>\n",
       "      <td>3</td>\n",
       "      <td>dvapyou go least life really neat place alot h...</td>\n",
       "      <td>positive</td>\n",
       "      <td>0.025</td>\n",
       "      <td>0.545</td>\n",
       "      <td>0.431</td>\n",
       "      <td>0.9935</td>\n",
       "    </tr>\n",
       "    <tr>\n",
       "      <th>34</th>\n",
       "      <td>3</td>\n",
       "      <td>theres two ways look place one getting quality...</td>\n",
       "      <td>positive</td>\n",
       "      <td>0.025</td>\n",
       "      <td>0.545</td>\n",
       "      <td>0.431</td>\n",
       "      <td>0.9935</td>\n",
       "    </tr>\n",
       "    <tr>\n",
       "      <th>45</th>\n",
       "      <td>3</td>\n",
       "      <td>everything nice ice cream delicious overwhelmi...</td>\n",
       "      <td>positive</td>\n",
       "      <td>0.025</td>\n",
       "      <td>0.545</td>\n",
       "      <td>0.431</td>\n",
       "      <td>0.9935</td>\n",
       "    </tr>\n",
       "    <tr>\n",
       "      <th>...</th>\n",
       "      <td>...</td>\n",
       "      <td>...</td>\n",
       "      <td>...</td>\n",
       "      <td>...</td>\n",
       "      <td>...</td>\n",
       "      <td>...</td>\n",
       "      <td>...</td>\n",
       "    </tr>\n",
       "    <tr>\n",
       "      <th>9967</th>\n",
       "      <td>3</td>\n",
       "      <td>thought reviewed location already  weird  one ...</td>\n",
       "      <td>positive</td>\n",
       "      <td>0.014</td>\n",
       "      <td>0.753</td>\n",
       "      <td>0.232</td>\n",
       "      <td>0.9860</td>\n",
       "    </tr>\n",
       "    <tr>\n",
       "      <th>9968</th>\n",
       "      <td>3</td>\n",
       "      <td>never didnt know expect  every time heard name...</td>\n",
       "      <td>positive</td>\n",
       "      <td>0.014</td>\n",
       "      <td>0.753</td>\n",
       "      <td>0.232</td>\n",
       "      <td>0.9860</td>\n",
       "    </tr>\n",
       "    <tr>\n",
       "      <th>9976</th>\n",
       "      <td>3</td>\n",
       "      <td>looking chile rellenos place great job making ...</td>\n",
       "      <td>positive</td>\n",
       "      <td>0.014</td>\n",
       "      <td>0.753</td>\n",
       "      <td>0.232</td>\n",
       "      <td>0.9860</td>\n",
       "    </tr>\n",
       "    <tr>\n",
       "      <th>9983</th>\n",
       "      <td>3</td>\n",
       "      <td>35 stars decided check place waves space decor...</td>\n",
       "      <td>positive</td>\n",
       "      <td>0.014</td>\n",
       "      <td>0.753</td>\n",
       "      <td>0.232</td>\n",
       "      <td>0.9860</td>\n",
       "    </tr>\n",
       "    <tr>\n",
       "      <th>9995</th>\n",
       "      <td>3</td>\n",
       "      <td>first visithad lunch today  used groupon  orde...</td>\n",
       "      <td>positive</td>\n",
       "      <td>0.014</td>\n",
       "      <td>0.753</td>\n",
       "      <td>0.232</td>\n",
       "      <td>0.9860</td>\n",
       "    </tr>\n",
       "  </tbody>\n",
       "</table>\n",
       "<p>1461 rows × 7 columns</p>\n",
       "</div>"
      ],
      "text/plain": [
       "      stars                                               text Sentiment  \\\n",
       "16        3  went saturday afternoon place incredibly empty...  positive   \n",
       "18        3  met friend lunch yesterday loved water feature...  positive   \n",
       "20        3  dvapyou go least life really neat place alot h...  positive   \n",
       "34        3  theres two ways look place one getting quality...  positive   \n",
       "45        3  everything nice ice cream delicious overwhelmi...  positive   \n",
       "...     ...                                                ...       ...   \n",
       "9967      3  thought reviewed location already  weird  one ...  positive   \n",
       "9968      3  never didnt know expect  every time heard name...  positive   \n",
       "9976      3  looking chile rellenos place great job making ...  positive   \n",
       "9983      3  35 stars decided check place waves space decor...  positive   \n",
       "9995      3  first visithad lunch today  used groupon  orde...  positive   \n",
       "\n",
       "      neg_score  neu_score  pos_score  compound_score  \n",
       "16        0.025      0.545      0.431          0.9935  \n",
       "18        0.025      0.545      0.431          0.9935  \n",
       "20        0.025      0.545      0.431          0.9935  \n",
       "34        0.025      0.545      0.431          0.9935  \n",
       "45        0.025      0.545      0.431          0.9935  \n",
       "...         ...        ...        ...             ...  \n",
       "9967      0.014      0.753      0.232          0.9860  \n",
       "9968      0.014      0.753      0.232          0.9860  \n",
       "9976      0.014      0.753      0.232          0.9860  \n",
       "9983      0.014      0.753      0.232          0.9860  \n",
       "9995      0.014      0.753      0.232          0.9860  \n",
       "\n",
       "[1461 rows x 7 columns]"
      ]
     },
     "execution_count": 13,
     "metadata": {},
     "output_type": "execute_result"
    }
   ],
   "source": [
    "neutral = yelp_df[(yelp_df['stars'] == 3)]\n",
    "neutral"
   ]
  },
  {
   "cell_type": "markdown",
   "id": "a080ce4a-8675-472a-bfc9-5aa6b97c3dd6",
   "metadata": {},
   "source": [
    "**The bar chart below shows that the sentiment analysis predicted many reviews with 3 stars as 'Positive'; this suggests that the analysis predicted incorrectly.**"
   ]
  },
  {
   "cell_type": "code",
   "execution_count": 14,
   "id": "e145d60f-0a46-4ed7-b347-1362f09b75a8",
   "metadata": {},
   "outputs": [
    {
     "data": {
      "image/png": "[encoded data removed]",
      "text/plain": [
       "<Figure size 640x480 with 1 Axes>"
      ]
     },
     "metadata": {},
     "output_type": "display_data"
    }
   ],
   "source": [
    "# bar chart showing total spread of sentiment\n",
    "neu_key = neutral['Sentiment'].value_counts().keys().tolist()\n",
    "neu_val = neutral['Sentiment'].value_counts().tolist()\n",
    "\n",
    "fig = plt.bar(neu_key, neu_val, color='g')"
   ]
  },
  {
   "cell_type": "code",
   "execution_count": 15,
   "id": "39b349c5-bed7-4fb0-8b81-5ddfb77baf64",
   "metadata": {},
   "outputs": [
    {
     "data": {
      "text/plain": [
       "([<matplotlib.patches.Wedge at 0x7fdc708ee380>,\n",
       "  <matplotlib.patches.Wedge at 0x7fdc7044f3a0>,\n",
       "  <matplotlib.patches.Wedge at 0x7fdc708ef3d0>],\n",
       " [Text(-1.0653554836920596, 0.2738935803688318, 'positive'),\n",
       "  Text(1.0598188707111915, -0.29459117652172584, 'negative'),\n",
       "  Text(1.099791343346018, -0.02142431098451982, 'neutral')],\n",
       " [Text(-0.5811029911047597, 0.14939649838299915, '91.99%'),\n",
       "  Text(0.5780830203879226, -0.1606860962845777, '7.39%'),\n",
       "  Text(0.599886187279646, -0.01168598780973808, '0.62%')])"
      ]
     },
     "execution_count": 15,
     "metadata": {},
     "output_type": "execute_result"
    },
    {
     "data": {
      "image/png": "[encoded data removed]",
      "text/plain": [
       "<Figure size 640x480 with 1 Axes>"
      ]
     },
     "metadata": {},
     "output_type": "display_data"
    }
   ],
   "source": [
    "# normalize values to get %\n",
    "norm_nval = neutral['Sentiment'].value_counts(normalize=True).tolist()\n",
    "norm_nvals = [i * 100 for i in norm_nval]\n",
    "for ind, i in enumerate(norm_nvals):\n",
    "    norm_nvals[ind] = round(norm_nvals[ind],2)\n",
    "plt.pie(norm_nvals, labels=neu_key, autopct='%1.2f%%')"
   ]
  },
  {
   "cell_type": "markdown",
   "id": "d32cd1ad-6fac-48c2-ad27-f2bd0417f885",
   "metadata": {},
   "source": [
    "## Part-2\n",
    "   In this part of the project, we're using the sentiment analysis of the user review to predict the ratings or stars they would give based on the review. We're using a train_test_split function provided by the scikit library to split the dataset into training and testing sets. We train our machine learning model with the training datasets and predict the result of the test dataset using the model.  "
   ]
  },
  {
   "cell_type": "markdown",
   "id": "8569191a-c866-4a5d-b644-0b50570bca99",
   "metadata": {},
   "source": [
    "### Displaying the percentage distribution of stars in the dataset"
   ]
  },
  {
   "cell_type": "code",
   "execution_count": 16,
   "id": "b728abce-b872-46ed-895a-fd6ef2f7ae94",
   "metadata": {},
   "outputs": [
    {
     "data": {
      "image/png": "[encoded data removed]",
      "text/plain": [
       "<Figure size 640x480 with 1 Axes>"
      ]
     },
     "metadata": {},
     "output_type": "display_data"
    }
   ],
   "source": [
    "import matplotlib.pyplot as plt\n",
    "round(yelp_df.stars.value_counts(normalize=True)*100,2).plot(kind='bar')\n",
    "plt.title('Percentage Distributions of stars')\n",
    "plt.show()"
   ]
  },
  {
   "cell_type": "markdown",
   "id": "abd71f59-c859-4047-b7cc-b4ad0d2e86a1",
   "metadata": {},
   "source": [
    "- As seen above our dataset contains a large number of 4 and 5 stars ratings.\n",
    "\n",
    "## train_test_split\n",
    "- we split the data into training and testing sets using train_test_split function"
   ]
  },
  {
   "cell_type": "code",
   "execution_count": 17,
   "id": "c17f5946-d54c-483a-b98b-1a03fd8c7cc3",
   "metadata": {},
   "outputs": [
    {
     "name": "stdout",
     "output_type": "stream",
     "text": [
      "Total number of train and test data\n",
      "independent_train : 9000\n",
      "independent_test  : 1000\n",
      "dependent_train : 9000\n",
      "dependent_test  : 1000\n"
     ]
    }
   ],
   "source": [
    "from sklearn.model_selection import train_test_split\n",
    "\n",
    "independent_var = yelp_df.text\n",
    "dependent_var = yelp_df.stars\n",
    "\n",
    "IV_train, IV_test, DV_train, DV_test = train_test_split(independent_var, dependent_var, test_size = 0.1, random_state = 225)\n",
    "\n",
    "print('Total number of train and test data')\n",
    "print('independent_train :', len(IV_train))\n",
    "print('independent_test  :', len(IV_test))\n",
    "print('dependent_train :', len(DV_train))\n",
    "print('dependent_test  :', len(DV_test))"
   ]
  },
  {
   "cell_type": "markdown",
   "id": "28beb824-f932-4e44-9520-e9bae3703367",
   "metadata": {},
   "source": [
    "### Functions we used to predict the star ratings ###\n",
    "- We usedTfidfVectorizer class in the scikit-learn library to convert a collection of text reviews into a matrix of TF-IDF features. \n",
    "- We used logistic regression, a machine learning algorithm, to classify our reviews by training the model with the training dataset and predicting the outcome of the test datasets. "
   ]
  },
  {
   "cell_type": "code",
   "execution_count": 18,
   "id": "8e5d9de8-78ef-438d-b728-e471867fa634",
   "metadata": {},
   "outputs": [],
   "source": [
    "from sklearn.feature_extraction.text import TfidfVectorizer\n",
    "from sklearn.linear_model import LogisticRegression\n",
    "\n",
    "tvec = TfidfVectorizer()\n",
    "clf2 = LogisticRegression(solver = \"lbfgs\", max_iter=1000)\n"
   ]
  },
  {
   "cell_type": "markdown",
   "id": "5d9331c6-dc14-47d2-aa4a-8ff728e42f09",
   "metadata": {},
   "source": [
    "- We use Pipeline to preprocess, classify, and model our dataset"
   ]
  },
  {
   "cell_type": "code",
   "execution_count": 19,
   "id": "c6b2f397-1c5f-48d8-ba4d-405ae4b609d8",
   "metadata": {},
   "outputs": [
    {
     "data": {
      "text/plain": [
       "array([[ 31,  14,   2,   3,   0],\n",
       "       [ 11,  15,   7,   3,   3],\n",
       "       [ 10,  18,  31,  14,   1],\n",
       "       [ 15,  27,  77, 221, 101],\n",
       "       [  7,  13,  25, 128, 223]])"
      ]
     },
     "execution_count": 19,
     "metadata": {},
     "output_type": "execute_result"
    }
   ],
   "source": [
    "from sklearn.pipeline import Pipeline\n",
    "from sklearn.metrics import confusion_matrix\n",
    "model = Pipeline([('vectorizer',tvec),('classifier',clf2)])\n",
    "\n",
    "model.fit(IV_train, DV_train)\n",
    "predictions = model.predict(IV_test)\n",
    "\n",
    "confusion_matrix(predictions, DV_test)"
   ]
  },
  {
   "cell_type": "markdown",
   "id": "1b19611d-c911-4241-8911-4471a12f8205",
   "metadata": {},
   "source": [
    "- The below model predicts the stars that the user would give based on the review"
   ]
  },
  {
   "cell_type": "code",
   "execution_count": 20,
   "id": "fd9c064c-f606-49e1-bf70-5b9af94117e8",
   "metadata": {},
   "outputs": [
    {
     "name": "stdout",
     "output_type": "stream",
     "text": [
      "The model predicted the following stars: [3 2 5 1]\n"
     ]
    }
   ],
   "source": [
    "# example = [\"Extra bed was the worst breakfast queue was really terrible\"]\n",
    "# example =[\"excellent service, everything was perfect\"]\n",
    "# example =[\"Worst service, I'm unhappy\"]\n",
    "example =[\"The place was alright but it could've been better\", \"Extra bed was the worst breakfast queue was really terrible\", \"excellent service, everything was perfect\", \"Worst service, I'm unhappy\"]\n",
    "result = model.predict(example)\n",
    "\n",
    "print(f'The model predicted the following stars: {result}')"
   ]
  },
  {
   "cell_type": "markdown",
   "id": "f3f4aebf-771f-4589-aeea-a93b9017c357",
   "metadata": {},
   "source": [
    "- Below is the accuracy, precision, and recall score of our model."
   ]
  },
  {
   "cell_type": "code",
   "execution_count": 21,
   "id": "5f98740c-a7c7-4b37-b3cb-0d566775d36e",
   "metadata": {},
   "outputs": [
    {
     "name": "stdout",
     "output_type": "stream",
     "text": [
      "Accuracy :  0.521\n",
      "Precision :  0.5771786719910306\n",
      "Recall :  0.521\n"
     ]
    }
   ],
   "source": [
    "from sklearn.metrics import accuracy_score, precision_score, recall_score\n",
    "\n",
    "print(\"Accuracy : \", accuracy_score(predictions, DV_test))\n",
    "print(\"Precision : \", precision_score(predictions, DV_test, average = 'weighted'))\n",
    "print(\"Recall : \", recall_score(predictions, DV_test, average = 'weighted'))"
   ]
  },
  {
   "cell_type": "markdown",
   "id": "54220b30-e68a-40f8-893d-d8978429c935",
   "metadata": {},
   "source": [
    "**Our model's accuracy isn't very high, as it hasn't been trained with enough data. In our datasets, the percentage of neutral and negative reviews is significantly less than positive; hence, our model prediction isn't accurate due to the unequal distribution of the reviews.**"
   ]
  },
  {
   "cell_type": "markdown",
   "id": "512cda32-2d65-4a48-a82c-0c9ba33a547f",
   "metadata": {},
   "source": [
    "### Conclusion ### \n",
    "Overall, we have learned a lot from our experiences in this project. In the first part of this project, we noticed that the pretrained model from nltk categorized a lot of reviews as positive. Which means there are a lot of false positives in our data. From our observations, even if we had an equal amount of data based off the stars from the reviews, we still believed that there will be a lot of incorrect classifications. We ultimately decided that the sentiment analysis model from nltk is not very accurate when it comes to yelp reviews. We would like to note that, in reviews that had a 4 or 5 star rating, the sentiment analyzer classified most of them correctly. Which makes us believe that the model has been trained with a lot of positive sentences rather than neutral or negative sentences.\n",
    "\n",
    "In the second part of this project, we wanted to see if we can use our sentiment analysis from the first part of the project to be able to determine the star rating it would recommend us to give. By the experimentation we had above, we noticed that our accuracy was not as high as expected. We believe that this was caused by our sentiment analysis dataset. This part on the other hand, we think if we had an equal amount of data based of the star ratings, we would have a much more accurate prediction since it would have enough to fairly train our model."
   ]
  },
  {
   "cell_type": "code",
   "execution_count": null,
   "id": "20807aa5-4877-40f5-9ef0-b8b8e279a5f5",
   "metadata": {},
   "outputs": [],
   "source": []
  }
 ],
 "metadata": {
  "kernelspec": {
   "display_name": "Python 3 (ipykernel)",
   "language": "python",
   "name": "python3"
  },
  "language_info": {
   "codemirror_mode": {
    "name": "ipython",
    "version": 3
   },
   "file_extension": ".py",
   "mimetype": "text/x-python",
   "name": "python",
   "nbconvert_exporter": "python",
   "pygments_lexer": "ipython3",
   "version": "3.10.6"
  },
  "vscode": {
   "interpreter": {
    "hash": "c261aea317cc0286b3b3261fbba9abdec21eaa57589985bb7a274bf54d6cc0a7"
   }
  }
 },
 "nbformat": 4,
 "nbformat_minor": 5
}
